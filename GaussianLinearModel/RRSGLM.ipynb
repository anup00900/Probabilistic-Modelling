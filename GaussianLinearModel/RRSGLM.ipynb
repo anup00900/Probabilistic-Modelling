{
 "cells": [
  {
   "cell_type": "code",
   "execution_count": 3,
   "metadata": {},
   "outputs": [],
   "source": [
    "import torch\n",
    "import torchvision\n",
    "from torchvision import datasets, transforms\n",
    "import matplotlib.pyplot as plt\n",
    "import torch.nn as nn\n",
    "import torch.nn.functional as F\n",
    "from IPython.display import clear_output as clr\n",
    "import os\n",
    "import numpy as np"
   ]
  },
  {
   "cell_type": "code",
   "execution_count": 4,
   "metadata": {},
   "outputs": [
    {
     "data": {
      "text/plain": [
       "<torch.autograd.anomaly_mode.set_detect_anomaly at 0x7ff4fa8247b8>"
      ]
     },
     "execution_count": 4,
     "metadata": {},
     "output_type": "execute_result"
    }
   ],
   "source": [
    "device = \"cpu\"\n",
    "if(torch.cuda.is_available()):\n",
    "    deivce = \"gpu\"\n",
    "\n",
    "torch.autograd.set_detect_anomaly(True)"
   ]
  },
  {
   "cell_type": "code",
   "execution_count": 5,
   "metadata": {},
   "outputs": [
    {
     "data": {
      "text/plain": [
       "<matplotlib.image.AxesImage at 0x7ff4f94c8cc0>"
      ]
     },
     "execution_count": 5,
     "metadata": {},
     "output_type": "execute_result"
    },
    {
     "data": {
      "image/png": "[encoded data removed]",
      "text/plain": [
       "<Figure size 432x288 with 4 Axes>"
      ]
     },
     "metadata": {
      "needs_background": "light"
     },
     "output_type": "display_data"
    },
    {
     "data": {
      "image/png": "[encoded data removed]",
      "text/plain": [
       "<Figure size 432x288 with 4 Axes>"
      ]
     },
     "metadata": {
      "needs_background": "light"
     },
     "output_type": "display_data"
    }
   ],
   "source": [
    "# Synthetic Data Genration\n",
    "\n",
    "'''Basis Generation'''\n",
    "k1 = np.zeros((6,6))\n",
    "k1[0:3,1] = 1.0\n",
    "k1[1,0:3] = 1.0\n",
    "\n",
    "k2 = np.zeros((6,6))\n",
    "k2[0:3,-3:] = 1.0\n",
    "k2[1,-2] = 0\n",
    "\n",
    "k3 = np.zeros((6,6))\n",
    "k3[-3:,0:3] = 1.0\n",
    "k3[-3:-1,2] = 0.0\n",
    "k3[-3,1:2] = 0.0\n",
    "\n",
    "k4 = np.zeros((6,6))\n",
    "k4[-3:,-2] = 1.0\n",
    "k4[-3,-3:] = 1.0\n",
    "\n",
    "fig, ax = plt.subplots(1,4)\n",
    "\n",
    "ax[0].imshow(k1)\n",
    "ax[1].imshow(k2)\n",
    "ax[2].imshow(k3)\n",
    "ax[3].imshow(k4)\n",
    "\n",
    "\n",
    "'''Data Generation'''\n",
    "\n",
    "train_size = 3000\n",
    "test_size = 500\n",
    "\n",
    "train_weights = np.random.rand(train_size, 4)\n",
    "train_data = np.dot(train_weights,np.array([k1.reshape(-1,1),k2.reshape(-1,1),k3.reshape(-1,1),k4.reshape(-1,1)]).reshape(4,-1))\n",
    "train_data += np.random.normal(0,0.01, size = train_data.shape)\n",
    "\n",
    "test_weights = np.random.rand(test_size, 4)\n",
    "test_data = np.dot(test_weights,np.array([k1.reshape(-1,1),k2.reshape(-1,1),k3.reshape(-1,1),k4.reshape(-1,1)]).reshape(4,-1))\n",
    "test_data += np.random.normal(0,0.01, size = test_data.shape)\n",
    "\n",
    "\n",
    "fig, ax = plt.subplots(1,4)\n",
    "\n",
    "ax[0].imshow(train_data[0].reshape(6,6))\n",
    "ax[1].imshow(train_data[300].reshape(6,6))\n",
    "ax[2].imshow(test_data[0].reshape(6,6))\n",
    "ax[3].imshow(test_data[300].reshape(6,6))"
   ]
  },
  {
   "cell_type": "code",
   "execution_count": 6,
   "metadata": {},
   "outputs": [
    {
     "name": "stdout",
     "output_type": "stream",
     "text": [
      "Done !\n"
     ]
    }
   ],
   "source": [
    "BATCH_SIZE = 100\n",
    "\n",
    "trainloader = torch.utils.data.DataLoader(train_data.reshape(-1,1,6,6), batch_size=BATCH_SIZE,\n",
    "                                          shuffle=True, num_workers=2)\n",
    "print(\"Done !\")"
   ]
  },
  {
   "cell_type": "code",
   "execution_count": 7,
   "metadata": {},
   "outputs": [
    {
     "data": {
      "image/png": "[encoded data removed]",
      "text/plain": [
       "<Figure size 432x288 with 1 Axes>"
      ]
     },
     "metadata": {
      "needs_background": "light"
     },
     "output_type": "display_data"
    }
   ],
   "source": [
    "def show_images(images):\n",
    "    images = torchvision.utils.make_grid(images)\n",
    "    show_image(images[0])\n",
    "\n",
    "def show_image(img):\n",
    "    plt.imshow(img, cmap='gray')\n",
    "    plt.show()\n",
    "\n",
    "dataiter = iter(trainloader)\n",
    "images = dataiter.next()\n",
    "show_images(images)"
   ]
  },
  {
   "cell_type": "code",
   "execution_count": 8,
   "metadata": {},
   "outputs": [],
   "source": [
    "class GLM_NP(nn.Module):\n",
    "    def __init__(self, latent_variable_dim, alpha = 1.0, rholr = 10e-12):\n",
    "        super(GLM_NP, self).__init__()\n",
    "        \n",
    "        ### Global Params\n",
    "        self.eps1 = torch.tensor(10e-6).float()\n",
    "        self.eps2 = torch.tensor(10e-4).float()\n",
    "        \n",
    "        # V : Stick breaking : Beta {kumaraswamy}\n",
    "        self.aeys = nn.Parameter(torch.rand(1,latent_variable_dim) + 2)\n",
    "        self.bees = nn.Parameter(torch.rand(1,latent_variable_dim) + 2)\n",
    "        self.unif_sampler = torch.distributions.uniform.Uniform(self.eps1, 1-self.eps1)\n",
    "        \n",
    "        # IBP prior\n",
    "        self.alpha = alpha\n",
    "        self.euler_constant = np.e\n",
    "        \n",
    "        # Z : Bernoulli\n",
    "        self.phi = nn.Parameter(torch.randn((36 + 1),latent_variable_dim))\n",
    "        \n",
    "        # Gumbel Softmax params\n",
    "        self.temperature = 10\n",
    "        self.t_prior = 0.1 # prior lambda\n",
    "        \n",
    "        self.gumbel_sampler = torch.distributions.gumbel.Gumbel(0,1)\n",
    "        \n",
    "        # Basis\n",
    "        self.A = nn.Parameter(torch.randn(latent_variable_dim, 36))\n",
    "        \n",
    "        ### Russian Roulette part\n",
    "        self.rhos = torch.zeros(latent_variable_dim + 1,1) + 0.5\n",
    "        self.rholr = rholr\n",
    "        \n",
    "        ## Optimizer\n",
    "        self.optimizer = None\n",
    "        self.K = latent_variable_dim\n",
    "        self.max_K = latent_variable_dim\n",
    "        \n",
    "    \n",
    "    def reparameterize_gumbel_kumaraswamy(self, inter_z, p):\n",
    "        '''Proper Sampling is required with masking'''\n",
    "        \n",
    "        N, K = inter_z.shape\n",
    "        sample_size = 1000\n",
    "        \n",
    "        U = self.unif_sampler.sample([N,K,sample_size])\n",
    "        G1 = self.unif_sampler.sample([N,K,sample_size])\n",
    "        logit_G1 = G1.log() - (1-G1).log() \n",
    "        \n",
    "        V = (1-U.pow(1/self.aeys[:,:K].view(-1,K,1))).pow(1/self.bees[:,:K].view(-1,K,1))\n",
    "        \n",
    "        pi = torch.zeros_like(V)+1\n",
    "        for i in range(K):\n",
    "            for j in range(i+1):\n",
    "                pi[:,i,:] *= V[:,j,:]\n",
    "        \n",
    "        rand_num = torch.rand_like(pi)\n",
    "        rand_logit = (rand_num/(1-rand_num)).log()\n",
    "        \n",
    "        \n",
    "        logit_pi = ((pi + self.eps1)/(1-pi + self.eps1)).log()\n",
    "        alpha = (logit_pi + inter_z.view(N,K,1)).sigmoid()\n",
    "        logit_alpha = (alpha + self.eps1)/(1-alpha + self.eps1)\n",
    "        \n",
    "        z1 = (logit_alpha.log() + logit_G1)/self.temperature\n",
    "        \n",
    "        y = z1.sigmoid()\n",
    "        \n",
    "        \n",
    "        return y, alpha, pi\n",
    "        \n",
    "    def forward(self, input, k):\n",
    "        x = input.view(-1, 36)\n",
    "        N, D = x.shape\n",
    "        \n",
    "        if(k == 0):\n",
    "            k = self.get_current_K()\n",
    "            \n",
    "        \n",
    "        inter_z = self.phi # 785 x K\n",
    "        x_cat = torch.cat((input.view(N,36), torch.ones(N).view(N,-1)), 1).view(N,36+1) # N x 785\n",
    "        inter_z = torch.mm(x_cat, inter_z[:,:k]) # N x K\n",
    "        \n",
    "        z, gi, pi = self.reparameterize_gumbel_kumaraswamy(inter_z, k) # N x K\n",
    "        \n",
    "        x = self.decode(z.mean(dim=-1).view(N,k), k)\n",
    "        \n",
    "        return x, z, gi, pi\n",
    "\n",
    "    \n",
    "    def decode(self, z, k):\n",
    "        \n",
    "        x = F.linear(z, self.A.transpose(0,1)[:,:k]).sigmoid()\n",
    "        \n",
    "        return x\n",
    "    \n",
    "    \n",
    "    def add_k_node(self, k):\n",
    "        # Add k latent features ...\n",
    "        if(k == 0):\n",
    "            return \n",
    "        with torch.no_grad():\n",
    "            self.aeys = nn.Parameter(torch.cat((self.aeys, torch.rand(1,k) + 2), 1))\n",
    "            self.bees = nn.Parameter(torch.cat((self.bees, torch.rand(1,k) + 2), 1))\n",
    "            \n",
    "            self.phi = nn.Parameter(torch.cat((self.phi, torch.randn((36 + 1),k)), 1))\n",
    "            self.A = nn.Parameter(torch.cat((self.A, torch.randn(k, 36)), 0))\n",
    "            \n",
    "            \n",
    "            self.rhos = torch.cat((self.rhos, torch.zeros(k,1) + 0.5), 0)\n",
    "    \n",
    "    def del_k_node(self, k):\n",
    "        # Retain k Latent Features ...\n",
    "        if(k == 0 or k == self.get_current_K()):\n",
    "            return\n",
    "        with torch.no_grad():\n",
    "            c_K = self.get_current_K()\n",
    "            \n",
    "            self.aeys = nn.Parameter(list(torch.split(self.aeys, c_K - k , 1))[0])\n",
    "            self.bees = nn.Parameter(list(torch.split(self.bees, c_K - k , 1))[0])\n",
    "            \n",
    "            self.phi = nn.Parameter(list(torch.split(self.phi, c_K - k , 1))[0])\n",
    "            self.A = nn.Parameter(list(torch.split(self.A, c_K - k , 0))[0])\n",
    "            \n",
    "            self.rhos = list(torch.split(self.rhos, c_K - k + 1, 0))[0]\n",
    "                             \n",
    "    def get_current_K(self):\n",
    "        return self.K\n",
    "    \n",
    "    def constraint_proj(self):\n",
    "        with torch.no_grad():\n",
    "            self.aeys[self.aeys < 0.001] = 0.001\n",
    "            self.bees[self.bees < 0.001] = 0.001\n",
    "            self.rhos[self.rhos < 10e-6] = 10e-6\n",
    "            self.rhos[self.rhos > 1 - 10e-6] = 1 - 10e-6"
   ]
  },
  {
   "cell_type": "code",
   "execution_count": 68,
   "metadata": {},
   "outputs": [],
   "source": [
    "def get_kth_trunc_loss(model, images, K = 0):\n",
    "    \n",
    "    N = images.shape[0]\n",
    "    \n",
    "    recon_image, z, gi, pi = model(images, K)\n",
    "    softplus = nn.Softplus()\n",
    "    eps = model.eps1\n",
    "    if(K == 0):\n",
    "        K = model.aeys.shape[1]\n",
    "    \n",
    "    z = z[:,:K]\n",
    "    pi = pi[:,:K]\n",
    "    gi = gi[:,:K]\n",
    "    \n",
    "    \n",
    "    KL_kuma = ((model.aeys - model.alpha)/(model.aeys))*(-model.euler_constant -torch.digamma(model.bees) - 1/model.bees)\n",
    "    KL_kuma += (model.aeys.log() + model.bees.log())\n",
    "    KL_kuma -= (model.bees - 1)/(model.bees)\n",
    "    \n",
    "#     print(KL_kuma)\n",
    "    KL_kuma = torch.sum(KL_kuma[:,:K])/N\n",
    "    \n",
    "    logit_pi = (pi+eps).log() - (1-pi+eps).log()\n",
    "    logit_x  =  (z+eps).log() - (1 -z+eps).log()\n",
    "    logit_gi = (gi+eps).log() - (1-gi+eps).log()\n",
    "    \n",
    "    \n",
    "\n",
    "    tau = model.temperature\n",
    "    tau_prior = model.t_prior\n",
    "    \n",
    "    exp_term_p = logit_pi - logit_x*(tau_prior)\n",
    "    exp_term_q = logit_gi - logit_x*(tau)\n",
    "    \n",
    "    log_tau = torch.log(torch.tensor(model.temperature, requires_grad = False))\n",
    "    \n",
    "    \n",
    "    \n",
    "    log_pz = log_tau + exp_term_p - 2.0*softplus(exp_term_p)\n",
    "    log_qz = log_tau + exp_term_q - 2.0*softplus(exp_term_q)\n",
    "    \n",
    "    \n",
    "    mask_K = torch.zeros_like(log_pz)\n",
    "    mask_K[:,:K] = 1\n",
    "    \n",
    "    \n",
    "#     log_pz = (mask_K*log_pz)[log_pz == log_pz]\n",
    "#     log_qz = (mask_K*log_qz)[log_qz == log_qz]\n",
    "\n",
    "    \n",
    "    KL_gumb = (log_qz - log_pz)\n",
    "    \n",
    "    KL_gumb[KL_gumb != KL_gumb] = 0\n",
    "    KL_gumb[KL_gumb < 0] = 0\n",
    "#     print(KL_gumb.shape)\n",
    "    KL_gumb = torch.sum(KL_gumb.mean(dim =-1))#.abs()\n",
    "    KL_gumb /= N\n",
    "    \n",
    "    \n",
    "    ''' Add some more KL terms from K||B ,  '''\n",
    "    \n",
    "    Lik = -0.5*(recon_image - images.view(-1,36)).pow(2)\n",
    "    \n",
    "    Lik = torch.sum(Lik)/N - float(36*0.5*np.log(2*np.pi))\n",
    "    \n",
    "    KL_l = KL_kuma + KL_gumb\n",
    "    \n",
    "    print(Lik, KL_kuma, KL_gumb)\n",
    "    \n",
    "    return -Lik  + KL_l"
   ]
  },
  {
   "cell_type": "code",
   "execution_count": 184,
   "metadata": {},
   "outputs": [],
   "source": [
    "def retain_k_nodes(model , new_K = 0):\n",
    "    \n",
    "    current_K = model.get_current_K()\n",
    "    if(current_K < new_K):\n",
    "        model.add_k_node(new_K - current_K)\n",
    "    elif(current_K > new_K):\n",
    "        model.del_k_node(current_K - new_K)\n",
    "    else:\n",
    "        pass\n",
    "    \n",
    "    model.K = new_K\n",
    "    optimizer = torch.optim.Adam(model.parameters(), 0.01)\n",
    "    \n",
    "    return optimizer"
   ]
  },
  {
   "cell_type": "code",
   "execution_count": 70,
   "metadata": {},
   "outputs": [],
   "source": [
    "def rrs_loss(model, images, curr_K):\n",
    "    \n",
    "    l = torch.zeros(curr_K+1,1)\n",
    "    for i in range(1,curr_K+1):\n",
    "        l[i,:] = get_kth_trunc_loss(model, images, K = i)\n",
    "        \n",
    "    \n",
    "    one_minus_rho = (1 - model.rhos[0:curr_K+1]).view(curr_K+1,1)\n",
    "    \n",
    "    return l, one_minus_rho"
   ]
  },
  {
   "cell_type": "code",
   "execution_count": 171,
   "metadata": {},
   "outputs": [],
   "source": [
    "def train_step(model, images, add_max = 5, sample = False, keep_graph = False):\n",
    "    \n",
    "    \"\"\" sample a trucation level and then do the same\"\"\"\n",
    "    \n",
    "    curr_K = model.get_current_K()\n",
    "    model.rhos[0] = 1.0\n",
    "    model.optimizer = retain_k_nodes(model , new_K = model.max_K+1)\n",
    "    model.optimizer = retain_k_nodes(model , new_K = model.max_K)\n",
    "    \n",
    "    \n",
    "    if(sample):\n",
    "        \n",
    "        curr_K = model.get_current_K()\n",
    "        rhos = list(model.rhos)\n",
    "        for i in range(add_max):\n",
    "            rhos.append(0.5)    \n",
    "        \n",
    "        L = len(rhos)\n",
    "        mt = rhos\n",
    "        for i in range(1,L):\n",
    "            mt[i] = mt[i-1]*(1-mt[i])\n",
    "        \n",
    "        mt[0] = 0\n",
    "        \n",
    "#         sample = [2]\n",
    "#         for i in range(2,L):\n",
    "#             u = np.random.uniform()\n",
    "#             if(u > mt[i]):\n",
    "#                 sample.append(i)\n",
    "\n",
    "#         new_value = int(np.max(sample))\n",
    "\n",
    "        mt = np.array(mt)\n",
    "        mt/=np.sum(mt)\n",
    "        print(mt)\n",
    "        new_value = int(np.random.choice(np.arange(L)+1, p = list(mt)))\n",
    "\n",
    "        if(new_value > model.max_K):\n",
    "            model.optimizer = retain_k_nodes(model , new_K = new_value)\n",
    "            model.K = new_value\n",
    "            model.max_K = new_value\n",
    "        else:\n",
    "            model.optimizer = retain_k_nodes(model , new_K = model.max_K)\n",
    "            model.K = new_value\n",
    "        \n",
    "        \n",
    "    else:\n",
    "        new_value = curr_K\n",
    "    \n",
    "    \n",
    "\n",
    "    print(\"Current Truncated Level :\", new_value)\n",
    "    print(model.rhos)\n",
    "    model.optimizer.zero_grad()\n",
    "    curr_K = model.get_current_K()\n",
    "    \n",
    "    \n",
    "    l ,one_minus_rho = rrs_loss(model, images, curr_K)\n",
    "    l[l != l] = 0\n",
    "    l_final_params = (l*one_minus_rho).sum()\n",
    "#     print(l,one_minus_rho,l_final_params)\n",
    "    \n",
    "    \n",
    "    ws = torch.zeros(curr_K+1, curr_K)\n",
    "    \n",
    "    for k in range(1,curr_K+1):\n",
    "        for i in range(k-1,curr_K):\n",
    "            if(i < k-1):\n",
    "                ws[k,i] = 0\n",
    "            elif(i == k-1):\n",
    "                ws[k,i] = 1/(model.rhos[k] - 1)\n",
    "            else:\n",
    "                ws[k,i] = 1/model.rhos[k]\n",
    "            \n",
    "    \n",
    "    rho_grads = (ws*(-l)*one_minus_rho).sum(dim = 1)\n",
    "    rho_grads[rho_grads != rho_grads] = 0.0\n",
    "    rho_logit = ((model.rhos).log() - (1 - model.rhos).log())[:curr_K+1]\n",
    "    sig_rho = rho_logit.sigmoid()\n",
    "    \n",
    "    \n",
    "    rho_logit[:curr_K+1,:] = rho_logit[:curr_K+1,:] - model.rholr*(sig_rho*(1-sig_rho)*rho_grads.view(-1,1))\n",
    "    model.rhos[:curr_K+1,:] = rho_logit.sigmoid()\n",
    "    \n",
    "\n",
    "    \n",
    "    if(l_final_params != l_final_params):\n",
    "        pass\n",
    "    else:\n",
    "        l_final_params.backward()\n",
    "        model.optimizer.step()\n",
    "        \n",
    "    model.constraint_proj()\n",
    "    \n",
    "    return l_final_params"
   ]
  },
  {
   "cell_type": "code",
   "execution_count": 172,
   "metadata": {},
   "outputs": [],
   "source": [
    "glm = GLM_NP(1,4,10e-3)\n",
    "glm.optimizer = retain_k_nodes(glm , new_K = 2)"
   ]
  },
  {
   "cell_type": "code",
   "execution_count": 173,
   "metadata": {},
   "outputs": [],
   "source": [
    "## train\n",
    "train_loss = []\n",
    "glm.temperature = 1.0\n",
    "keep_graph = True"
   ]
  },
  {
   "cell_type": "code",
   "execution_count": 177,
   "metadata": {},
   "outputs": [
    {
     "name": "stdout",
     "output_type": "stream",
     "text": [
      "Epoch no : 50 batch_no : 29 curr_loss : 0.1524234676361084\n"
     ]
    },
    {
     "data": {
      "image/png": "[encoded data removed]",
      "text/plain": [
       "<Figure size 432x288 with 1 Axes>"
      ]
     },
     "metadata": {
      "needs_background": "light"
     },
     "output_type": "display_data"
    }
   ],
   "source": [
    "# optimizer = torch.optim.Adam(glm.parameters(), 0.05)\n",
    "for epoch in range(50):\n",
    "    \n",
    "        \n",
    "    for i, data in enumerate(trainloader, 0):\n",
    "        images = data.float()\n",
    "        images = images.to(device)\n",
    "            \n",
    "        if(i%1 == 0 and True):\n",
    "            l = train_step(glm, images, 1, True, keep_graph)\n",
    "        else:\n",
    "            l = train_step(glm, images, 1, False, keep_graph)\n",
    "            \n",
    "        \n",
    "        \n",
    "        train_loss.append((l/((1 - glm.rhos[:-1]).sum())).item() / len(images))\n",
    "\n",
    "        glm.temperature /= 1.1\n",
    "        if(glm.temperature < .01):\n",
    "            glm.temperature = 0.01\n",
    "        \n",
    "\n",
    "#         optimizer.zero_grad()\n",
    "#         l = get_kth_trunc_loss(glm, images, K = 0)\n",
    "#         try:\n",
    "#             l.backward()\n",
    "#         except:\n",
    "#             pass\n",
    "#         train_loss.append(l.item() / len(images))\n",
    "#         optimizer.step()\n",
    "    \n",
    "        \n",
    "\n",
    "        if(i%1 == 0):\n",
    "            clr(wait = True)\n",
    "            print(\"Epoch no :\", epoch + 1, \"batch_no :\", i, \"curr_loss :\",  train_loss[-1])\n",
    "        \n",
    "plt.plot(train_loss)\n",
    "plt.show()"
   ]
  },
  {
   "cell_type": "code",
   "execution_count": 183,
   "metadata": {},
   "outputs": [
    {
     "data": {
      "image/png": "[encoded data removed]",
      "text/plain": [
       "<Figure size 720x432 with 5 Axes>"
      ]
     },
     "metadata": {
      "needs_background": "light"
     },
     "output_type": "display_data"
    }
   ],
   "source": [
    "K = max(glm.get_current_K(),2)\n",
    "fig, ax = plt.subplots(1,K, figsize = [2*K,6])\n",
    "for i in range(K):\n",
    "    ax[i].imshow(glm.A[i].view(6,6).detach(), cmap= 'gray')\n",
    "plt.savefig('sample.png')\n",
    "plt.show()"
   ]
  },
  {
   "cell_type": "code",
   "execution_count": 82,
   "metadata": {},
   "outputs": [
    {
     "data": {
      "text/plain": [
       "0.01"
      ]
     },
     "execution_count": 82,
     "metadata": {},
     "output_type": "execute_result"
    }
   ],
   "source": [
    "glm.temperature"
   ]
  },
  {
   "cell_type": "code",
   "execution_count": 83,
   "metadata": {},
   "outputs": [
    {
     "data": {
      "text/plain": [
       "Parameter containing:\n",
       "tensor([[11.5064, 10.7362,  8.5466,  9.7855, 10.5342,  8.9912,  5.9685,  4.6403,\n",
       "          2.7753]], requires_grad=True)"
      ]
     },
     "execution_count": 83,
     "metadata": {},
     "output_type": "execute_result"
    }
   ],
   "source": [
    "glm.aeys"
   ]
  },
  {
   "cell_type": "code",
   "execution_count": 84,
   "metadata": {},
   "outputs": [
    {
     "data": {
      "text/plain": [
       "Parameter containing:\n",
       "tensor([[2.8070, 4.1527, 4.8067, 4.6620, 5.9940, 4.0731, 1.5512, 1.1128, 2.1950]],\n",
       "       requires_grad=True)"
      ]
     },
     "execution_count": 84,
     "metadata": {},
     "output_type": "execute_result"
    }
   ],
   "source": [
    "glm.bees"
   ]
  },
  {
   "cell_type": "code",
   "execution_count": 85,
   "metadata": {},
   "outputs": [
    {
     "data": {
      "text/plain": [
       "tensor([[1.0000e+00],\n",
       "        [6.5253e-07],\n",
       "        [9.7793e-01],\n",
       "        [9.7260e-01],\n",
       "        [9.7358e-01],\n",
       "        [9.5681e-01],\n",
       "        [9.3317e-01],\n",
       "        [8.5091e-01],\n",
       "        [8.3243e-01],\n",
       "        [5.8364e-01]], grad_fn=<CopySlices>)"
      ]
     },
     "execution_count": 85,
     "metadata": {},
     "output_type": "execute_result"
    }
   ],
   "source": [
    "glm.rhos"
   ]
  },
  {
   "cell_type": "code",
   "execution_count": 86,
   "metadata": {},
   "outputs": [
    {
     "data": {
      "text/plain": [
       "1.0248452331757003"
      ]
     },
     "execution_count": 86,
     "metadata": {},
     "output_type": "execute_result"
    }
   ],
   "source": [
    "train_data.max()"
   ]
  },
  {
   "cell_type": "code",
   "execution_count": 87,
   "metadata": {},
   "outputs": [
    {
     "data": {
      "text/plain": [
       "9"
      ]
     },
     "execution_count": 87,
     "metadata": {},
     "output_type": "execute_result"
    }
   ],
   "source": [
    "glm.max_K"
   ]
  },
  {
   "cell_type": "code",
   "execution_count": 88,
   "metadata": {},
   "outputs": [
    {
     "data": {
      "text/plain": [
       "9"
      ]
     },
     "execution_count": 88,
     "metadata": {},
     "output_type": "execute_result"
    }
   ],
   "source": [
    "glm.K"
   ]
  },
  {
   "cell_type": "code",
   "execution_count": null,
   "metadata": {},
   "outputs": [],
   "source": []
  }
 ],
 "metadata": {
  "kernelspec": {
   "display_name": "Python 3",
   "language": "python",
   "name": "python3"
  },
  "language_info": {
   "codemirror_mode": {
    "name": "ipython",
    "version": 3
   },
   "file_extension": ".py",
   "mimetype": "text/x-python",
   "name": "python",
   "nbconvert_exporter": "python",
   "pygments_lexer": "ipython3",
   "version": "3.6.8"
  }
 },
 "nbformat": 4,
 "nbformat_minor": 2
}
