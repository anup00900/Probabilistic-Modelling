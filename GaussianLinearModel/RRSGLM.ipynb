{
 "cells": [
  {
   "cell_type": "code",
   "execution_count": 1,
   "metadata": {},
   "outputs": [],
   "source": [
    "import torch\n",
    "import torchvision\n",
    "from torchvision import datasets, transforms\n",
    "import matplotlib.pyplot as plt\n",
    "import torch.nn as nn\n",
    "import torch.nn.functional as F\n",
    "from IPython.display import clear_output as clr\n",
    "import os\n",
    "import numpy as np\n",
    "from scipy.special import beta as BETA"
   ]
  },
  {
   "cell_type": "code",
   "execution_count": 2,
   "metadata": {},
   "outputs": [
    {
     "data": {
      "text/plain": [
       "<Figure size 432x288 with 0 Axes>"
      ]
     },
     "metadata": {},
     "output_type": "display_data"
    }
   ],
   "source": [
    "device = \"cpu\"\n",
    "if(torch.cuda.is_available()):\n",
    "    deivce = \"gpu\"\n",
    "\n",
    "torch.autograd.set_detect_anomaly(True)\n",
    "plt.set_cmap(\"gray\")"
   ]
  },
  {
   "cell_type": "code",
   "execution_count": 3,
   "metadata": {},
   "outputs": [
    {
     "data": {
      "text/plain": [
       "<matplotlib.image.AxesImage at 0x7f4103cc3128>"
      ]
     },
     "execution_count": 3,
     "metadata": {},
     "output_type": "execute_result"
    },
    {
     "data": {
      "image/png": "[encoded data removed]",
      "text/plain": [
       "<Figure size 432x288 with 4 Axes>"
      ]
     },
     "metadata": {
      "needs_background": "light"
     },
     "output_type": "display_data"
    },
    {
     "data": {
      "image/png": "[encoded data removed]",
      "text/plain": [
       "<Figure size 432x288 with 4 Axes>"
      ]
     },
     "metadata": {
      "needs_background": "light"
     },
     "output_type": "display_data"
    }
   ],
   "source": [
    "# Synthetic Data Genration\n",
    "\n",
    "'''Basis Generation'''\n",
    "k1 = np.zeros((6,6))\n",
    "k1[0:3,1] = 1.0\n",
    "k1[1,0:3] = 1.0\n",
    "\n",
    "k2 = np.zeros((6,6))\n",
    "k2[0:3,-3:] = 1.0\n",
    "k2[1,-2] = 0\n",
    "\n",
    "k3 = np.zeros((6,6))\n",
    "k3[-3:,0:3] = 1.0\n",
    "k3[-3:-1,2] = 0.0\n",
    "k3[-3,1:2] = 0.0\n",
    "\n",
    "k4 = np.zeros((6,6))\n",
    "k4[-3:,-2] = 1.0\n",
    "k4[-3,-3:] = 1.0\n",
    "\n",
    "fig, ax = plt.subplots(1,4)\n",
    "\n",
    "ax[0].imshow(k1)\n",
    "ax[1].imshow(k2)\n",
    "ax[2].imshow(k3)\n",
    "ax[3].imshow(k4)\n",
    "\n",
    "\n",
    "'''Data Generation'''\n",
    "\n",
    "train_size = 3000\n",
    "test_size = 500\n",
    "\n",
    "train_weights = np.random.rand(train_size, 4)>0.5\n",
    "train_data = np.dot(train_weights,np.array([k1.reshape(-1,1),k2.reshape(-1,1),k3.reshape(-1,1),k4.reshape(-1,1)]).reshape(4,-1))\n",
    "train_data += np.random.normal(0,0.1)\n",
    "\n",
    "test_weights = np.random.rand(test_size, 4)>0.5\n",
    "test_data = np.dot(test_weights,np.array([k1.reshape(-1,1),k2.reshape(-1,1),k3.reshape(-1,1),k4.reshape(-1,1)]).reshape(4,-1))\n",
    "test_data += np.random.normal(0,0.1)\n",
    "\n",
    "\n",
    "fig, ax = plt.subplots(1,4)\n",
    "\n",
    "ax[0].imshow(train_data[0].reshape(6,6))\n",
    "ax[1].imshow(train_data[300].reshape(6,6))\n",
    "ax[2].imshow(test_data[0].reshape(6,6))\n",
    "ax[3].imshow(test_data[300].reshape(6,6))"
   ]
  },
  {
   "cell_type": "code",
   "execution_count": 4,
   "metadata": {},
   "outputs": [
    {
     "name": "stdout",
     "output_type": "stream",
     "text": [
      "Done !\n"
     ]
    }
   ],
   "source": [
    "BATCH_SIZE = 100\n",
    "\n",
    "trainloader = torch.utils.data.DataLoader(train_data.reshape(-1,1,6,6), batch_size=BATCH_SIZE,\n",
    "                                          shuffle=True, num_workers=2)\n",
    "print(\"Done !\")"
   ]
  },
  {
   "cell_type": "code",
   "execution_count": 5,
   "metadata": {},
   "outputs": [
    {
     "data": {
      "image/png": "[encoded data removed]",
      "text/plain": [
       "<Figure size 432x288 with 1 Axes>"
      ]
     },
     "metadata": {
      "needs_background": "light"
     },
     "output_type": "display_data"
    }
   ],
   "source": [
    "def show_images(images):\n",
    "    images = torchvision.utils.make_grid(images)\n",
    "    show_image(images[0])\n",
    "\n",
    "def show_image(img):\n",
    "    plt.imshow(img, cmap='gray')\n",
    "    plt.show()\n",
    "\n",
    "dataiter = iter(trainloader)\n",
    "images = dataiter.next()\n",
    "show_images(images)"
   ]
  },
  {
   "cell_type": "code",
   "execution_count": 6,
   "metadata": {},
   "outputs": [],
   "source": [
    "class GLM_NP(nn.Module):\n",
    "    def __init__(self, latent_variable_dim, alpha = 1.0, rholr = 10e-12):\n",
    "        super(GLM_NP, self).__init__()\n",
    "        \n",
    "        ### Global Params\n",
    "        self.eps1 = torch.tensor(10e-6).float()\n",
    "        self.eps2 = torch.tensor(10e-4).float()\n",
    "        \n",
    "        # V : Stick breaking : Beta {kumaraswamy}\n",
    "        self.aeys = nn.Parameter(torch.rand(1,latent_variable_dim)*0.1 + alpha)\n",
    "        self.bees = nn.Parameter(torch.rand(1,latent_variable_dim)*0.1 + 1.0)\n",
    "        self.unif_sampler = torch.distributions.uniform.Uniform(self.eps1, 1-self.eps1)\n",
    "        \n",
    "        # IBP prior\n",
    "        self.alpha = alpha\n",
    "        self.euler_constant = -torch.digamma(torch.tensor(1.0))\n",
    "        \n",
    "        # Z : Bernoulli\n",
    "        self.phi = nn.Parameter(torch.randn((36 + 1),latent_variable_dim))\n",
    "        \n",
    "        # Gumbel Softmax params\n",
    "        self.temperature = 10\n",
    "        self.t_prior = 1.0 # prior lambda\n",
    "        \n",
    "        self.gumbel_sampler = torch.distributions.gumbel.Gumbel(0,1)\n",
    "        \n",
    "        # Basis\n",
    "        self.A = nn.Parameter(torch.randn(latent_variable_dim, 36))\n",
    "        \n",
    "        ### Russian Roulette part\n",
    "        self.rhos = torch.zeros(latent_variable_dim + 1,1) + 0.5\n",
    "        self.rholr = rholr\n",
    "        \n",
    "        ## Optimizer\n",
    "        self.optimizer = None\n",
    "        self.K = latent_variable_dim\n",
    "        self.max_K = latent_variable_dim\n",
    "        \n",
    "    \n",
    "    def reparameterize_gumbel_kumaraswamy(self, inter_z, p):\n",
    "        '''Proper Sampling is required with masking'''\n",
    "        \n",
    "        N, K = inter_z.shape\n",
    "        sample_size = 10\n",
    "        \n",
    "        U = self.unif_sampler.sample([N,K,sample_size])\n",
    "        G1 = self.unif_sampler.sample([N,K,sample_size])\n",
    "        logit_G1 = G1.log() - (1-G1).log() \n",
    "        \n",
    "        V = (1-(U+self.eps1).pow(1/self.aeys.exp()[:,:K].view(-1,K,1)) + self.eps1 ).pow(1/self.bees.exp()[:,:K].view(-1,K,1))\n",
    "        \n",
    "        pi = torch.zeros_like(V)+1\n",
    "        for i in range(K):\n",
    "            for j in range(i+1):\n",
    "                pi[:,i,:] *= V[:,j,:]\n",
    "        \n",
    "        rand_num = torch.rand_like(pi)\n",
    "        rand_logit = (rand_num/(1-rand_num)).log()\n",
    "        \n",
    "        \n",
    "        logit_pi = ((pi + self.eps1)/(1-pi + self.eps1)).log()\n",
    "        alpha = (logit_pi + inter_z.view(N,K,1)).sigmoid()\n",
    "        logit_alpha = (alpha + self.eps1)/(1-alpha + self.eps1)\n",
    "        \n",
    "        z1 = (logit_alpha + logit_G1)/self.temperature\n",
    "        \n",
    "        pz1 = (logit_pi + logit_G1)/self.temperature\n",
    "        \n",
    "        y = z1.sigmoid()\n",
    "        \n",
    "        py = pz1.sigmoid()\n",
    "        \n",
    "        \n",
    "        return y, alpha, pi, py\n",
    "        \n",
    "    def forward(self, input, k):\n",
    "        x = input.view(-1, 36)\n",
    "        N, D = x.shape\n",
    "        \n",
    "        if(k == 0):\n",
    "            k = self.get_current_K()\n",
    "            \n",
    "        \n",
    "        inter_z = self.phi # 785 x K\n",
    "        x_cat = torch.cat((input.view(N,36), torch.ones(N).view(N,-1)), 1).view(N,36+1) # N x 785\n",
    "        inter_z = torch.mm(x_cat, inter_z[:,:k]) # N x K\n",
    "        \n",
    "        z, gi, pi, py = self.reparameterize_gumbel_kumaraswamy(inter_z, k) # N x K\n",
    "        \n",
    "        x = self.decode(z.mean(dim=-1).view(N,k), k)\n",
    "        \n",
    "        return x, z, gi, pi, py\n",
    "\n",
    "    \n",
    "    def decode(self, z, k):\n",
    "        \n",
    "        x = F.linear(z, self.A.transpose(0,1)[:,:k])\n",
    "        \n",
    "        return x\n",
    "    \n",
    "    \n",
    "    def add_k_node(self, k):\n",
    "        # Add k latent features ...\n",
    "        if(k == 0):\n",
    "            return \n",
    "        with torch.no_grad():\n",
    "            self.aeys = nn.Parameter(torch.cat((self.aeys, torch.rand(1,k)*0.1 + self.alpha), 1))\n",
    "            self.bees = nn.Parameter(torch.cat((self.bees, torch.rand(1,k)*0.1 + 1.0), 1))\n",
    "            \n",
    "            self.phi = nn.Parameter(torch.cat((self.phi, torch.randn((36 + 1),k)), 1))\n",
    "            self.A = nn.Parameter(torch.cat((self.A, torch.randn(k, 36)), 0))\n",
    "            \n",
    "            \n",
    "            self.rhos = torch.cat((self.rhos, torch.zeros(k,1) + 0.5), 0)\n",
    "    \n",
    "    def del_k_node(self, k):\n",
    "        # Retain k Latent Features ...\n",
    "        if(k == 0 or k == self.get_current_K()):\n",
    "            return\n",
    "        with torch.no_grad():\n",
    "            c_K = self.get_current_K()\n",
    "            \n",
    "            self.aeys = nn.Parameter(list(torch.split(self.aeys, c_K - k , 1))[0])\n",
    "            self.bees = nn.Parameter(list(torch.split(self.bees, c_K - k , 1))[0])\n",
    "            \n",
    "            self.phi = nn.Parameter(list(torch.split(self.phi, c_K - k , 1))[0])\n",
    "            self.A = nn.Parameter(list(torch.split(self.A, c_K - k , 0))[0])\n",
    "            \n",
    "            self.rhos = list(torch.split(self.rhos, c_K - k + 1, 0))[0]\n",
    "                             \n",
    "    def get_current_K(self):\n",
    "        return self.K\n",
    "    \n",
    "    def constraint_proj(self):\n",
    "        with torch.no_grad():\n",
    "#             self.aeys[self.aeys < 0.001] = 0.001\n",
    "#             self.bees[self.bees < 0.001] = 0.001\n",
    "#             self.rhos[self.rhos < 10e-6] = 10e-6\n",
    "#             self.rhos[self.rhos > 1 - 10e-6] = 1 - 10e-6\n",
    "            pass"
   ]
  },
  {
   "cell_type": "code",
   "execution_count": 17,
   "metadata": {},
   "outputs": [],
   "source": [
    "def retain_k_nodes(model , new_K = 0):\n",
    "    \n",
    "    current_K = model.get_current_K()\n",
    "    if(current_K < new_K):\n",
    "        model.add_k_node(new_K - current_K)\n",
    "    elif(current_K > new_K):\n",
    "        model.del_k_node(current_K - new_K)\n",
    "    else:\n",
    "        pass\n",
    "    \n",
    "    model.K = new_K\n",
    "    optimizer = torch.optim.Adam(model.parameters(), 0.01)\n",
    "    \n",
    "    return optimizer"
   ]
  },
  {
   "cell_type": "code",
   "execution_count": 18,
   "metadata": {},
   "outputs": [],
   "source": [
    "def rrs_loss(model, images, rhos, fixed = False):\n",
    "    \n",
    "    \n",
    "    curr_K = model.K\n",
    "    one_minus_rho = (1 - rhos[0:curr_K+1]).view(curr_K+1,1)\n",
    "    weight = torch.zeros_like(one_minus_rho)\n",
    "    weight[curr_K] = one_minus_rho[curr_K]\n",
    "    for i in range(1,curr_K+1):\n",
    "        weight[curr_K-i] = weight[curr_K-i+1] + one_minus_rho[curr_K - i]\n",
    "        \n",
    "    weight = weight[1:]\n",
    "    \n",
    "    N = images.shape[0]\n",
    "    global_multiplier = (N/3000)*1000\n",
    "    _, z, gi, pi, py = model(images, 0)\n",
    "    \n",
    "    softplus = nn.Softplus()\n",
    "    eps = model.eps1\n",
    "        \n",
    "        \n",
    "        \n",
    "    KL_kuma = ((model.aeys.exp() - model.alpha)/(model.aeys.exp()))*(-model.euler_constant -torch.digamma(model.bees.exp()) - 1/model.bees.exp())\n",
    "    KL_kuma += (model.aeys.exp().log() + model.bees.exp().log()) + torch.log(torch.tensor(BETA(model.alpha,1)))\n",
    "    KL_kuma -= (model.bees.exp() - 1)/(model.bees.exp()) \n",
    "    KL_kuma = (KL_kuma*global_multiplier).view(1,-1)\n",
    "    KL_kuma_w = (KL_kuma[:,:curr_K]*weight.view(1,-1)).sum()\n",
    "    \n",
    "    \n",
    "    logit_pi = (pi+eps).log() - (1-pi+eps).log()\n",
    "    logit_x  =  (z+eps).log() - (1 -z+eps).log()\n",
    "    logit_gi = (gi+eps).log() - (1-gi+eps).log()\n",
    "\n",
    "    tau = model.temperature\n",
    "    tau_prior = model.t_prior\n",
    "    exp_term_p = logit_pi - logit_x*(tau)\n",
    "    exp_term_q = logit_gi - logit_x*(tau_prior)\n",
    "    log_tau = torch.log(torch.tensor(model.temperature, requires_grad = False))\n",
    "    log_pz = log_tau + exp_term_p - 2.0*softplus(exp_term_p)\n",
    "    log_qz = log_tau + exp_term_q - 2.0*softplus(exp_term_q)\n",
    "    \n",
    "    qz = log_qz.exp()\n",
    "    KL_gumb = qz*(log_qz - log_pz)#/qz.sum(dim=-1).view(N,curr_K,-1)\n",
    "    \n",
    "    \n",
    "#     KL_gumb = z*((z+eps).log() + 0.30102999566)\n",
    "    \n",
    "    \n",
    "    \n",
    "    KL_gumb[KL_gumb != KL_gumb] = 0\n",
    "#     KL_gumb[KL_gumb < 0] = 0\n",
    "    KL_gumb = KL_gumb.mean(dim =-1).mean(dim = 0).view(1,-1)#.abs()\n",
    "    KL_gumb_w = (KL_gumb*weight.view(1,-1)).sum()\n",
    "    \n",
    "    \n",
    "    \n",
    "    l = torch.zeros(curr_K+1,1)\n",
    "    lik_loss = 0\n",
    "    for i in range(1,curr_K+1):\n",
    "        \n",
    "        recon_image = model.decode(z[:,:i,:].mean(dim=-1).view(N,i), i)\n",
    "        Lik = -0.5*(recon_image - images.view(-1,36)).pow(2)\n",
    "        Lik = torch.sum(Lik)/N - float(36*0.5*np.log(2*np.pi))\n",
    "        \n",
    "        lik_loss += Lik*one_minus_rho[i]\n",
    "        \n",
    "        l[i,:] = - Lik + KL_gumb[:,:i].sum() + KL_kuma[:,:i].sum()\n",
    "        \n",
    "    \n",
    "    \n",
    "    \n",
    "    l_final = - lik_loss + KL_gumb_w + KL_kuma_w\n",
    "    print(lik_loss/one_minus_rho.sum() , KL_gumb_w , KL_kuma_w)\n",
    "    \n",
    "    \n",
    "    if(not fixed):\n",
    "        return l, one_minus_rho, l_final\n",
    "    else:\n",
    "        return l, one_minus_rho, l[-1,:].sum()"
   ]
  },
  {
   "cell_type": "code",
   "execution_count": 49,
   "metadata": {},
   "outputs": [],
   "source": [
    "def train_step(model, images, sample_max = 5, sample = False, keep_graph = False):\n",
    "    \n",
    "    \"\"\" sample a trucation level and then do the same\"\"\"\n",
    "    \n",
    "    curr_K = model.get_current_K()\n",
    "    model.rhos[0] = 0.9999\n",
    "    model.optimizer = retain_k_nodes(model , new_K = model.max_K+1)\n",
    "    model.optimizer = retain_k_nodes(model , new_K = model.max_K)\n",
    "    \n",
    "    rhos = list(model.rhos)\n",
    "    L = len(rhos)\n",
    "    samples = []\n",
    "    \n",
    "    for i in range(sample_max):\n",
    "\n",
    "        k = 1\n",
    "        \n",
    "        while(True):\n",
    "            u = np.random.uniform()\n",
    "            if(u > rhos[k]):\n",
    "                samples.append(k)\n",
    "                break\n",
    "            k += 1\n",
    "\n",
    "            if(k > L-1 and sample):\n",
    "                rhos.append(0.5)\n",
    "                L = len(rhos)\n",
    "            elif(k > L-1):\n",
    "                break\n",
    "                \n",
    "    \n",
    "                \n",
    "    samples.sort()\n",
    "    if(sample):\n",
    "        curr_K = model.get_current_K()\n",
    "        new_value = int(np.mean(samples[-7:]))\n",
    "        \n",
    "        if(new_value > model.max_K):\n",
    "            model.optimizer = retain_k_nodes(model , new_K = new_value)\n",
    "            model.K = new_value\n",
    "            model.max_K = new_value\n",
    "        else:\n",
    "            model.optimizer = retain_k_nodes(model , new_K = model.max_K)\n",
    "            model.K = new_value\n",
    "            \n",
    "    else:\n",
    "        new_value = curr_K\n",
    "        \n",
    "        \n",
    "    \n",
    "    \n",
    "    omrho = 1 - np.array(rhos)[:model.K+1]\n",
    "    weight = omrho*0\n",
    "    for i in range(len(samples)):\n",
    "        val = samples[i]+1\n",
    "        weight[:val] += omrho[:val]\n",
    "    \n",
    "    weight/=len(samples)\n",
    "    weight = torch.tensor(weight).view(1,-1).float()\n",
    "    \n",
    "    \n",
    "\n",
    "    print(\"Current Truncated Level :\", new_value)\n",
    "    print(model.rhos)\n",
    "    model.optimizer.zero_grad()\n",
    "    curr_K = model.get_current_K()\n",
    "    \n",
    "    l ,one_minus_rho, l_final_params = rrs_loss(model, images, weight[:,:curr_K+1], False)\n",
    "#     l_final_params = (l*one_minus_rho).sum()\n",
    "    \n",
    "    \n",
    "    if(l_final_params != l_final_params):\n",
    "        pass\n",
    "    else:\n",
    "        try:\n",
    "            l_final_params.backward()\n",
    "            model.optimizer.step()\n",
    "        except:\n",
    "            print(\"failed\")\n",
    "\n",
    "    model.constraint_proj()\n",
    "    \n",
    "    \n",
    "    \n",
    "    ws = torch.zeros(curr_K+1, curr_K)\n",
    "    for k in range(2,curr_K+2):\n",
    "        for i in range(k-1,curr_K+1):\n",
    "            if(i < k-1):\n",
    "                ws[k-1,i-1] = 0\n",
    "            elif(i == k-1):\n",
    "                ws[k-1,i-1] = 1/(model.rhos[k-1] - 1)\n",
    "            else:\n",
    "                ws[k-1,i-1] = 1/model.rhos[k-1]\n",
    "            \n",
    "#     print(ws)\n",
    "#     assert 1 == 2\n",
    "    rho_grads = (torch.mm(ws,(l*one_minus_rho)[1:,:]))\n",
    "    rho_grads[rho_grads != rho_grads] = 0.0\n",
    "    rho_logit = ((model.rhos).log() - (1 - model.rhos).log())[:curr_K+1]\n",
    "    sig_rho = rho_logit.sigmoid()\n",
    "    \n",
    "    rho_logit[:curr_K+1,:] = rho_logit[:curr_K+1,:] + model.rholr*(sig_rho*(1-sig_rho)*rho_grads.view(-1,1))\n",
    "    model.rhos[:curr_K+1,:] = rho_logit.sigmoid()\n",
    "    \n",
    "    return l_final_params"
   ]
  },
  {
   "cell_type": "code",
   "execution_count": 50,
   "metadata": {},
   "outputs": [],
   "source": [
    "glm = GLM_NP(1,4,10e-5)"
   ]
  },
  {
   "cell_type": "code",
   "execution_count": 51,
   "metadata": {},
   "outputs": [],
   "source": [
    "## train\n",
    "train_loss = []\n",
    "glm.temperature = 1.0\n",
    "keep_graph = True"
   ]
  },
  {
   "cell_type": "code",
   "execution_count": 52,
   "metadata": {},
   "outputs": [
    {
     "name": "stdout",
     "output_type": "stream",
     "text": [
      "Epoch no : 100 batch_no : 29 curr_loss : 1.1520929718017578\n"
     ]
    },
    {
     "data": {
      "image/png": "[encoded data removed]",
      "text/plain": [
       "<Figure size 432x288 with 1 Axes>"
      ]
     },
     "metadata": {
      "needs_background": "light"
     },
     "output_type": "display_data"
    }
   ],
   "source": [
    "# optimizer = torch.optim.Adam(glm.parameters(), 0.1)\n",
    "for epoch in range(100):\n",
    "    \n",
    "        \n",
    "    for i, data in enumerate(trainloader, 0):\n",
    "        images = data.float()\n",
    "        images = images.to(device)\n",
    "            \n",
    "        if(i%5 == 0 and True):\n",
    "            l = train_step(glm, images, 10, True, keep_graph)\n",
    "        else:\n",
    "            l = train_step(glm, images, 10, False, keep_graph)\n",
    "            \n",
    "        \n",
    "        \n",
    "        train_loss.append((l/((1 - glm.rhos[:glm.K]).sum())).item() / len(images))\n",
    "\n",
    "        glm.temperature /= 1.1\n",
    "        if(glm.temperature < .01):\n",
    "            glm.temperature = 0.01\n",
    "        \n",
    "\n",
    "#         optimizer.zero_grad()\n",
    "#         l = get_kth_trunc_loss(glm, images, K = 0)\n",
    "#         try:\n",
    "#             l.backward()\n",
    "#         except:\n",
    "#             pass\n",
    "#         train_loss.append(l.item())\n",
    "#         optimizer.step()\n",
    "    \n",
    "        \n",
    "\n",
    "        if(i%1 == 0):\n",
    "            clr(wait = True)\n",
    "            print(\"Epoch no :\", epoch + 1, \"batch_no :\", i, \"curr_loss :\",  train_loss[-1])\n",
    "        \n",
    "plt.plot(train_loss)\n",
    "plt.show()"
   ]
  },
  {
   "cell_type": "code",
   "execution_count": 53,
   "metadata": {},
   "outputs": [
    {
     "data": {
      "image/png": "[encoded data removed]",
      "text/plain": [
       "<Figure size 864x432 with 6 Axes>"
      ]
     },
     "metadata": {
      "needs_background": "light"
     },
     "output_type": "display_data"
    }
   ],
   "source": [
    "K = max(glm.get_current_K(),2)\n",
    "fig, ax = plt.subplots(1,K, figsize = [2*K,6])\n",
    "for i in range(K):\n",
    "    ax[i].imshow((glm.A[i]).view(6,6).detach(), cmap= 'gray')\n",
    "plt.savefig('sample.png')\n",
    "plt.show()"
   ]
  },
  {
   "cell_type": "code",
   "execution_count": null,
   "metadata": {},
   "outputs": [],
   "source": []
  },
  {
   "cell_type": "code",
   "execution_count": 24,
   "metadata": {},
   "outputs": [
    {
     "data": {
      "text/plain": [
       "0.01"
      ]
     },
     "execution_count": 24,
     "metadata": {},
     "output_type": "execute_result"
    }
   ],
   "source": [
    "glm.temperature"
   ]
  },
  {
   "cell_type": "code",
   "execution_count": 25,
   "metadata": {},
   "outputs": [
    {
     "data": {
      "text/plain": [
       "tensor([[4.0233, 3.9732, 4.0093, 3.9869, 4.0378, 4.0132, 4.0735, 4.0504]],\n",
       "       grad_fn=<ExpBackward>)"
      ]
     },
     "execution_count": 25,
     "metadata": {},
     "output_type": "execute_result"
    }
   ],
   "source": [
    "glm.aeys.exp()"
   ]
  },
  {
   "cell_type": "code",
   "execution_count": 26,
   "metadata": {},
   "outputs": [
    {
     "data": {
      "text/plain": [
       "tensor([[1.0106, 0.9939, 1.0061, 1.0039, 0.9968, 1.0032, 1.0083, 1.0244]],\n",
       "       grad_fn=<ExpBackward>)"
      ]
     },
     "execution_count": 26,
     "metadata": {},
     "output_type": "execute_result"
    }
   ],
   "source": [
    "glm.bees.exp()"
   ]
  },
  {
   "cell_type": "code",
   "execution_count": 27,
   "metadata": {},
   "outputs": [
    {
     "data": {
      "text/plain": [
       "tensor([[ 9.2101],\n",
       "        [ 1.8345],\n",
       "        [ 1.6890],\n",
       "        [ 1.4969],\n",
       "        [ 1.2707],\n",
       "        [ 0.9721],\n",
       "        [ 0.6003],\n",
       "        [-0.0437],\n",
       "        [-1.6836]], grad_fn=<SubBackward0>)"
      ]
     },
     "execution_count": 27,
     "metadata": {},
     "output_type": "execute_result"
    }
   ],
   "source": [
    "glm.rhos.log() - (1-glm.rhos).log()"
   ]
  },
  {
   "cell_type": "code",
   "execution_count": 28,
   "metadata": {},
   "outputs": [
    {
     "data": {
      "text/plain": [
       "1.0088614615929088"
      ]
     },
     "execution_count": 28,
     "metadata": {},
     "output_type": "execute_result"
    }
   ],
   "source": [
    "train_data.max()"
   ]
  },
  {
   "cell_type": "code",
   "execution_count": 29,
   "metadata": {},
   "outputs": [
    {
     "data": {
      "text/plain": [
       "8"
      ]
     },
     "execution_count": 29,
     "metadata": {},
     "output_type": "execute_result"
    }
   ],
   "source": [
    "glm.max_K"
   ]
  },
  {
   "cell_type": "code",
   "execution_count": 30,
   "metadata": {},
   "outputs": [
    {
     "data": {
      "text/plain": [
       "8"
      ]
     },
     "execution_count": 30,
     "metadata": {},
     "output_type": "execute_result"
    }
   ],
   "source": [
    "glm.K"
   ]
  },
  {
   "cell_type": "code",
   "execution_count": 32,
   "metadata": {},
   "outputs": [],
   "source": [
    "recon_image, z, gi, pi, _ = glm(images, K)"
   ]
  },
  {
   "cell_type": "code",
   "execution_count": 36,
   "metadata": {},
   "outputs": [
    {
     "data": {
      "text/plain": [
       "[<matplotlib.lines.Line2D at 0x7f40fbda8748>]"
      ]
     },
     "execution_count": 36,
     "metadata": {},
     "output_type": "execute_result"
    },
    {
     "data": {
      "image/png": "[encoded data removed]",
      "text/plain": [
       "<Figure size 432x288 with 1 Axes>"
      ]
     },
     "metadata": {
      "needs_background": "light"
     },
     "output_type": "display_data"
    }
   ],
   "source": [
    "plt.plot(z[0,:,0].detach().numpy())"
   ]
  },
  {
   "cell_type": "code",
   "execution_count": 43,
   "metadata": {},
   "outputs": [
    {
     "data": {
      "text/plain": [
       "tensor([9.8983e-20, 6.8134e-05, 7.1704e-04, 9.9253e-01, 9.3720e-01, 7.0875e-04,\n",
       "        7.6411e-01, 8.2365e-01], grad_fn=<SelectBackward>)"
      ]
     },
     "execution_count": 43,
     "metadata": {},
     "output_type": "execute_result"
    }
   ],
   "source": [
    "gi[10,:,0]"
   ]
  },
  {
   "cell_type": "code",
   "execution_count": 1401,
   "metadata": {},
   "outputs": [],
   "source": [
    "def get_rho_prob(rhos):\n",
    "    \n",
    "    rho_np = rhos.detach().numpy().reshape(-1)\n",
    "    mt = rho_np.copy()\n",
    "    \n",
    "    for i in range(1,mt.shape[0]):\n",
    "        prod = 1\n",
    "        for j in range(i):\n",
    "            prod*=rhos[j]\n",
    "    \n",
    "        mt[i-1] = prod*(1-rhos[i])\n",
    "\n",
    "    return mt"
   ]
  },
  {
   "cell_type": "code",
   "execution_count": 1402,
   "metadata": {},
   "outputs": [
    {
     "data": {
      "text/plain": [
       "[<matplotlib.lines.Line2D at 0x7f99e137cac8>]"
      ]
     },
     "execution_count": 1402,
     "metadata": {},
     "output_type": "execute_result"
    },
    {
     "data": {
      "image/png": "[encoded data removed]",
      "text/plain": [
       "<Figure size 432x288 with 1 Axes>"
      ]
     },
     "metadata": {
      "needs_background": "light"
     },
     "output_type": "display_data"
    }
   ],
   "source": [
    "plt.plot(get_rho_prob(glm.rhos)[:-1])"
   ]
  },
  {
   "cell_type": "code",
   "execution_count": 1403,
   "metadata": {},
   "outputs": [
    {
     "data": {
      "text/plain": [
       "tensor([[0.9999],\n",
       "        [0.8821],\n",
       "        [0.8233],\n",
       "        [0.7305],\n",
       "        [0.5562],\n",
       "        [0.1803]], grad_fn=<CopySlices>)"
      ]
     },
     "execution_count": 1403,
     "metadata": {},
     "output_type": "execute_result"
    }
   ],
   "source": [
    "glm.rhos"
   ]
  },
  {
   "cell_type": "code",
   "execution_count": null,
   "metadata": {},
   "outputs": [],
   "source": []
  }
 ],
 "metadata": {
  "kernelspec": {
   "display_name": "Python 3",
   "language": "python",
   "name": "python3"
  },
  "language_info": {
   "codemirror_mode": {
    "name": "ipython",
    "version": 3
   },
   "file_extension": ".py",
   "mimetype": "text/x-python",
   "name": "python",
   "nbconvert_exporter": "python",
   "pygments_lexer": "ipython3",
   "version": "3.7.3"
  }
 },
 "nbformat": 4,
 "nbformat_minor": 2
}
