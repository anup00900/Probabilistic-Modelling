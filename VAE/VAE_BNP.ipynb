{
 "cells": [
  {
   "cell_type": "code",
   "execution_count": 1,
   "metadata": {},
   "outputs": [],
   "source": [
    "import torch\n",
    "import torchvision\n",
    "from torchvision import datasets, transforms\n",
    "import matplotlib.pyplot as plt\n",
    "import torch.nn as nn\n",
    "import torch.nn.functional as F\n",
    "from IPython.display import clear_output as clr\n",
    "import os\n",
    "import numpy as np"
   ]
  },
  {
   "cell_type": "code",
   "execution_count": 2,
   "metadata": {},
   "outputs": [
    {
     "data": {
      "text/plain": [
       "<torch.autograd.anomaly_mode.set_detect_anomaly at 0x7f9bb3bc9d30>"
      ]
     },
     "execution_count": 2,
     "metadata": {},
     "output_type": "execute_result"
    }
   ],
   "source": [
    "device = \"cpu\"\n",
    "if(torch.cuda.is_available()):\n",
    "    deivce = \"gpu\"\n",
    "\n",
    "torch.autograd.set_detect_anomaly(True)"
   ]
  },
  {
   "cell_type": "code",
   "execution_count": 3,
   "metadata": {},
   "outputs": [
    {
     "name": "stdout",
     "output_type": "stream",
     "text": [
      "Done !\n"
     ]
    }
   ],
   "source": [
    "# training\n",
    "BATCH_SIZE = 100\n",
    "if(os.path.isdir(os.path.join(os.getcwd(), 'data'))):\n",
    "    trainset = datasets.MNIST('./data/', train=True, download=False,\n",
    "                   transform=transforms.ToTensor())\n",
    "else:\n",
    "    trainset = datasets.MNIST('./data/', train=True, download=True,\n",
    "                   transform=transforms.ToTensor())\n",
    "trainloader = torch.utils.data.DataLoader(trainset, batch_size=BATCH_SIZE,\n",
    "                                          shuffle=True, num_workers=2)\n",
    "print(\"Done !\")"
   ]
  },
  {
   "cell_type": "code",
   "execution_count": 4,
   "metadata": {},
   "outputs": [
    {
     "data": {
      "image/png": "[encoded data removed]",
      "text/plain": [
       "<Figure size 432x288 with 1 Axes>"
      ]
     },
     "metadata": {
      "needs_background": "light"
     },
     "output_type": "display_data"
    }
   ],
   "source": [
    "def show_images(images):\n",
    "    images = torchvision.utils.make_grid(images)\n",
    "    show_image(images[0])\n",
    "\n",
    "def show_image(img):\n",
    "    plt.imshow(img, cmap='gray')\n",
    "    plt.show()\n",
    "\n",
    "dataiter = iter(trainloader)\n",
    "images, labels = dataiter.next()\n",
    "show_images(images)"
   ]
  },
  {
   "cell_type": "code",
   "execution_count": 138,
   "metadata": {},
   "outputs": [],
   "source": [
    "class VAE_NP(nn.Module):\n",
    "    def __init__(self, latent_variable_dim, alpha = 1.0, rholr = 10e-12):\n",
    "        super(VAE_NP, self).__init__()\n",
    "        \n",
    "        ### Global Params\n",
    "        self.eps1 = torch.tensor(10e-6).float()\n",
    "        self.eps2 = torch.tensor(10e-4).float()\n",
    "        \n",
    "        # V : Stick breaking : Beta {kumaraswamy}\n",
    "        self.aeys = nn.Parameter(torch.rand(1,latent_variable_dim) + 1)\n",
    "        self.bees = nn.Parameter(torch.rand(1,latent_variable_dim) + 1)\n",
    "        \n",
    "        self.unif_sampler = torch.distributions.uniform.Uniform(0, 1)\n",
    "        \n",
    "        \n",
    "        # IBP prior\n",
    "        self.alpha = alpha\n",
    "        self.euler_constant = np.e\n",
    "        \n",
    "        ### Encoder part\n",
    "        self.fc1 = nn.Linear(784, 400)\n",
    "        \n",
    "        # A : Gaussian\n",
    "        self.weight_enc_mean = nn.Parameter(torch.randn(latent_variable_dim, 400)*0.01)\n",
    "        self.weight_enc_std = nn.Parameter(torch.randn(latent_variable_dim, 400)*0.1)\n",
    "        \n",
    "        # Z : Bernoulli\n",
    "        self.phi = nn.Parameter(torch.randn((784 + 1),latent_variable_dim)*0.001)\n",
    "        \n",
    "        # Gumbel Softmax params\n",
    "        self.temperature = 10\n",
    "        self.t_prior = 0.1 # prior lambda\n",
    "        self.gumbel_sampler = torch.distributions.gumbel.Gumbel(0,1)\n",
    "        \n",
    "        ### Decoder part\n",
    "        self.weight_dec = nn.Parameter(torch.randn(400, latent_variable_dim, )*0.01)\n",
    "        \n",
    "        self.fc4 = nn.Linear(400, 784)\n",
    "        \n",
    "        ### Russian Roulette part\n",
    "        self.rhos = torch.zeros(latent_variable_dim + 1,1) + 0.5\n",
    "        self.rholr = rholr\n",
    "        \n",
    "        ## Optimizer\n",
    "        self.optimizer = None\n",
    "        self.K = latent_variable_dim\n",
    "        self.max_K = latent_variable_dim\n",
    "        \n",
    "    \n",
    "    def reparameterize_gaussian(self, log_var, mu):\n",
    "        s = torch.exp(0.5*log_var)+self.eps2\n",
    "        eps = torch.rand_like(s)-0.5 # generate a iid standard normal same shape as s\n",
    "        return eps.mul(s).add_(mu)\n",
    "    \n",
    "    def reparameterize_gumbel_kumaraswamy(self, inter_z):\n",
    "        \n",
    "        N, K = inter_z.shape\n",
    "        sample_size = 1\n",
    "        \n",
    "        U = self.unif_sampler.sample([N,K,sample_size])\n",
    "        G1 = self.unif_sampler.sample([N,K,sample_size])\n",
    "        logit_G1 = G1.log() - (1-G1).log() \n",
    "        \n",
    "        V = (1-U.pow(1/self.aeys[:,:K].view(-1,K,1))).pow(1/self.bees[:,:K].view(-1,K,1))\n",
    "        \n",
    "        pi = torch.zeros_like(V)+1\n",
    "        for i in range(K):\n",
    "            for j in range(i+1):\n",
    "                pi[:,i,:] *= V[:,j,:]\n",
    "        \n",
    "        rand_num = torch.rand_like(pi)\n",
    "        rand_logit = (rand_num/(1-rand_num)).log()\n",
    "        \n",
    "        \n",
    "        logit_pi = ((pi + self.eps1)/(1-pi + self.eps1)).log()\n",
    "        alpha = (logit_pi + inter_z.view(N,K,1)).sigmoid().pow(0.98)\n",
    "        logit_alpha = (alpha + self.eps1)/(1-alpha + self.eps1)\n",
    "        \n",
    "        z1 = (logit_alpha.log() + logit_G1)/self.temperature\n",
    "        \n",
    "        y = z1.sigmoid()\n",
    "        \n",
    "        \n",
    "        return y, alpha, pi\n",
    "    \n",
    "    def forward(self, input, k):\n",
    "        x = input.view(-1, 784)\n",
    "        N, D = x.shape\n",
    "        x = torch.relu(self.fc1(x))\n",
    "        \n",
    "        if(k == 0):\n",
    "            k = self.get_current_K()\n",
    "        \n",
    "        log_s = F.linear(x, self.weight_enc_std[:k,:])\n",
    "#         log_s[log_s>10]=10.0\n",
    "#         log_s[log_s<-10]=-10.0\n",
    "        m = F.linear(x, self.weight_enc_mean[:k,:])\n",
    "        \n",
    "        inter_z = self.phi # 785 x K\n",
    "        x_cat = torch.cat((input.view(N,784), torch.ones(N).view(N,-1)), 1).view(N,785) # N x 785\n",
    "        inter_z = F.linear(x_cat, inter_z[:,:k].transpose(0,1)) # N x K\n",
    "        \n",
    "        \n",
    "        z, gi, pi = self.reparameterize_gumbel_kumaraswamy(inter_z) # N x K\n",
    "        \n",
    "        a = self.reparameterize_gaussian(log_s, m) # N x K\n",
    "        \n",
    "        az = a*(z.mean(dim = -1).view(N,k))\n",
    "        \n",
    "        x = self.decode(a, k)\n",
    "        \n",
    "        return x, m, log_s, z, pi, gi\n",
    "\n",
    "    \n",
    "    def decode(self, z, k):\n",
    "        x = torch.relu(F.linear(z, self.weight_dec[:,:k]))\n",
    "        x = self.fc4(x)\n",
    "        x = torch.sigmoid(x)\n",
    "        \n",
    "        \n",
    "        \n",
    "        return x\n",
    "    \n",
    "    \n",
    "    def add_k_node(self, k):\n",
    "        # Add k latent features ...\n",
    "        if(k == 0):\n",
    "            return \n",
    "        with torch.no_grad():\n",
    "            self.aeys = nn.Parameter(torch.cat((self.aeys, torch.rand(1,k) + 1), 1))\n",
    "            self.bees = nn.Parameter(torch.cat((self.bees, torch.rand(1,k) + 1), 1))\n",
    "            \n",
    "            self.phi = nn.Parameter(torch.cat((self.phi, torch.randn((784 + 1),k)), 1)*0.001)\n",
    "            \n",
    "            self.weight_enc_mean = nn.Parameter(torch.cat((self.weight_enc_mean, torch.randn(k, 400)), 0)*0.001)\n",
    "            self.weight_enc_std = nn.Parameter(torch.cat((self.weight_enc_std, torch.randn(k, 400)), 0)*0.001)\n",
    "            self.weight_dec = nn.Parameter(torch.cat((self.weight_dec, torch.randn(400,k)), 1)*0.001)\n",
    "            \n",
    "            self.rhos = torch.cat((self.rhos, torch.zeros(k,1) + 0.5), 0)\n",
    "    \n",
    "    def del_k_node(self, k):\n",
    "        # Retain k Latent Features ...\n",
    "        if(k == 0 or k == self.weight_dec.shape[1]):\n",
    "            return\n",
    "        with torch.no_grad():\n",
    "            c_K = self.weight_dec.shape[1]\n",
    "            \n",
    "            self.aeys = nn.Parameter(list(torch.split(self.aeys, c_K - k , 1))[0])\n",
    "            self.bees = nn.Parameter(list(torch.split(self.bees, c_K - k , 1))[0])\n",
    "            \n",
    "            self.phi = nn.Parameter(list(torch.split(self.phi, c_K - k , 1))[0])\n",
    "            \n",
    "            self.weight_enc_mean = nn.Parameter(list(torch.split(self.weight_enc_mean, c_K - k , 0))[0])\n",
    "            self.weight_enc_std = nn.Parameter(list(torch.split(self.weight_enc_std, c_K - k , 0))[0])\n",
    "            self.weight_dec = nn.Parameter(list(torch.split(self.weight_dec, c_K - k , 1))[0])\n",
    "            \n",
    "            self.rhos = list(torch.split(self.rhos, c_K - k + 1, 0))[0]\n",
    "                             \n",
    "    def get_current_K(self):\n",
    "        return self.K\n",
    "    \n",
    "\n",
    "    def constraint_proj(self):\n",
    "        with torch.no_grad():\n",
    "            self.aeys[self.aeys < 0.001] = 0.001\n",
    "            self.bees[self.bees < 0.001] = 0.001\n",
    "            self.rhos[self.rhos < self.eps2] = self.eps2\n",
    "            self.rhos[self.rhos > 1 - self.eps2] = 1 - self.eps2"
   ]
  },
  {
   "cell_type": "code",
   "execution_count": 43,
   "metadata": {},
   "outputs": [],
   "source": [
    "def loss(input_image, recon_image):\n",
    "    CE = F.binary_cross_entropy(recon_image, input_image.view(-1, 784), reduction='sum')\n",
    "    return CE"
   ]
  },
  {
   "cell_type": "code",
   "execution_count": 151,
   "metadata": {},
   "outputs": [],
   "source": [
    "def retain_k_nodes(model , new_K = 0):\n",
    "    \n",
    "    current_K = model.weight_dec.shape[1]\n",
    "    if(current_K < new_K):\n",
    "        model.add_k_node(new_K - current_K)\n",
    "    elif(current_K > new_K):\n",
    "        model.del_k_node(current_K - new_K)\n",
    "    else:\n",
    "        pass\n",
    "    \n",
    "    optimizer = torch.optim.Adam(model.parameters(), 0.05)\n",
    "    \n",
    "    return optimizer"
   ]
  },
  {
   "cell_type": "code",
   "execution_count": 141,
   "metadata": {},
   "outputs": [],
   "source": [
    "def get_kth_trunc_loss(model, images, K = 0):\n",
    "    N = images.shape[0]\n",
    "    \n",
    "    recon_image, log_var, mu, z, pi, gi = model(images, K)\n",
    "#     print((recon_image != recon_image).sum())\n",
    "    softplus = nn.Softplus()\n",
    "    eps = model.eps1\n",
    "    \n",
    "    if(K == 0):\n",
    "        K = model.aeys.shape[1]\n",
    "    \n",
    "    log_var = log_var[:,:K]\n",
    "    mu = mu[:,:K]\n",
    "    z = z[:,:K]\n",
    "    pi = pi[:,:K]\n",
    "    gi = gi[:,:K]\n",
    "    \n",
    "    \n",
    "    KL_gauss = -0.5 * torch.sum(1 + log_var - mu.pow(2) - log_var.exp())\n",
    "    KL_gauss /= N\n",
    "    \n",
    "    KL_kuma = ((model.aeys - model.alpha)/(model.aeys))*(-model.euler_constant -torch.digamma(model.bees) - 1/model.bees)\n",
    "    KL_kuma += (model.aeys.log() + model.bees.log())\n",
    "    KL_kuma += -(model.bees - 1)/(model.bees)\n",
    "    \n",
    "    KL_kuma = torch.sum(KL_kuma[:,:K])\n",
    "    \n",
    "    logit_pi = (pi+eps).log() - (1-pi+eps).log()\n",
    "    logit_x  =  (z+eps).log() - (1 -z+eps).log()\n",
    "    logit_gi = (gi+eps).log() - (1-gi+eps).log()\n",
    "\n",
    "    tau = model.temperature\n",
    "    tau_prior = model.t_prior\n",
    "    \n",
    "    exp_term_p = logit_pi - logit_x*(tau_prior)\n",
    "    exp_term_q = logit_gi - logit_x*(tau)\n",
    "    \n",
    "    log_tau = torch.log(torch.tensor(model.temperature, requires_grad = False))\n",
    "    \n",
    "    \n",
    "    \n",
    "    log_pz = log_tau + exp_term_p - 2.0*softplus(exp_term_p)\n",
    "    log_qz = log_tau + exp_term_q - 2.0*softplus(exp_term_q)\n",
    "    \n",
    "    KL_gumb = (log_qz - log_pz)\n",
    "    \n",
    "    KL_gumb[KL_gumb != KL_gumb] = 0\n",
    "    KL_gumb[KL_gumb < 0] = 0\n",
    "#     print(KL_gumb.shape)\n",
    "    KL_gumb = torch.sum(KL_gumb.mean(dim =-1))#.abs()\n",
    "    KL_gumb /= N\n",
    "    \n",
    "    \n",
    "    l = loss(images, recon_image)/N\n",
    "    KL_l  = KL_gauss + KL_kuma + KL_gumb\n",
    "    \n",
    "    print(l, KL_gauss, KL_kuma, KL_gumb)\n",
    "    \n",
    "    return l + KL_l"
   ]
  },
  {
   "cell_type": "code",
   "execution_count": 142,
   "metadata": {},
   "outputs": [],
   "source": [
    "def rrs_loss(model, images, curr_K):\n",
    "    \n",
    "    l = torch.zeros(curr_K+1,1)\n",
    "    for i in range(1,curr_K+1):\n",
    "        l[i,:] = get_kth_trunc_loss(model, images, K = i)\n",
    "        \n",
    "    \n",
    "    one_minus_rho = (1 - model.rhos[0:curr_K+1]).view(curr_K+1,1)\n",
    "    \n",
    "    return l, one_minus_rho"
   ]
  },
  {
   "cell_type": "code",
   "execution_count": 143,
   "metadata": {},
   "outputs": [],
   "source": [
    "def train_step(model, images, sample_max = 5, sample = False, keep_graph = False):\n",
    "    \n",
    "    \"\"\" sample a trucation level and then do the same\"\"\"\n",
    "    \n",
    "    curr_K = model.get_current_K()\n",
    "    model.rhos[0] = 1.0\n",
    "    model.optimizer = retain_k_nodes(model , new_K = model.max_K+1)\n",
    "    model.optimizer = retain_k_nodes(model , new_K = model.max_K)\n",
    "    \n",
    "    \n",
    "    if(sample):\n",
    "        \n",
    "        curr_K = model.get_current_K()\n",
    "        rhos = list(model.rhos)  \n",
    "        \n",
    "        L = len(rhos)\n",
    "        \n",
    "        samples = []\n",
    "        for i in range(sample_max):\n",
    "            \n",
    "            k = 1\n",
    "            while(True):\n",
    "                u = np.random.uniform()\n",
    "                if(u > rhos[k]):\n",
    "                    samples.append(k)\n",
    "                    break\n",
    "                k += 1\n",
    "                \n",
    "                if(k > L-1):\n",
    "                    rhos.append(0.5)\n",
    "                \n",
    "\n",
    "        new_value = int(np.max(samples))\n",
    "\n",
    "        if(new_value > model.max_K):\n",
    "            model.optimizer = retain_k_nodes(model , new_K = new_value)\n",
    "            model.K = new_value\n",
    "            model.max_K = new_value\n",
    "        else:\n",
    "            model.optimizer = retain_k_nodes(model , new_K = model.max_K)\n",
    "            model.K = new_value\n",
    "        \n",
    "        \n",
    "    else:\n",
    "        new_value = curr_K\n",
    "    \n",
    "    \n",
    "\n",
    "    print(\"Current Truncated Level :\", new_value)\n",
    "    print(model.rhos)\n",
    "    model.optimizer.zero_grad()\n",
    "    curr_K = model.get_current_K()\n",
    "    \n",
    "    \n",
    "    l ,one_minus_rho = rrs_loss(model, images, curr_K)\n",
    "    l[l != l] = 0\n",
    "    l_final_params = (l*one_minus_rho).sum()\n",
    "#     print(l,one_minus_rho,l_final_params)\n",
    "    \n",
    "    \n",
    "    ws = torch.zeros(curr_K+1, curr_K)\n",
    "    \n",
    "    for k in range(1,curr_K+1):\n",
    "        for i in range(k-1,curr_K):\n",
    "            if(i < k-1):\n",
    "                ws[k,i] = 0\n",
    "            elif(i == k-1):\n",
    "                ws[k,i] = 1/(model.rhos[k] - 1)\n",
    "            else:\n",
    "                ws[k,i] = 1/model.rhos[k]\n",
    "            \n",
    "    \n",
    "    rho_grads = (ws*(-l)*one_minus_rho).sum(dim = 1)\n",
    "    rho_grads[rho_grads != rho_grads] = 0.0\n",
    "    rho_logit = ((model.rhos).log() - (1 - model.rhos).log())[:curr_K+1]\n",
    "    sig_rho = rho_logit.sigmoid()\n",
    "    \n",
    "    \n",
    "    rho_logit[:curr_K+1,:] = rho_logit[:curr_K+1,:] - model.rholr*(sig_rho*(1-sig_rho)*rho_grads.view(-1,1))\n",
    "    model.rhos[:curr_K+1,:] = rho_logit.sigmoid()\n",
    "    \n",
    "\n",
    "    \n",
    "    if(l_final_params != l_final_params):\n",
    "        pass\n",
    "    else:\n",
    "        try:\n",
    "            l_final_params.backward()\n",
    "            model.optimizer.step()\n",
    "        except:\n",
    "            print(\"failed\")\n",
    "\n",
    "    model.constraint_proj()\n",
    "    \n",
    "    return l_final_params"
   ]
  },
  {
   "cell_type": "code",
   "execution_count": 148,
   "metadata": {},
   "outputs": [],
   "source": [
    "vae = VAE_NP(2,10,10e-4)"
   ]
  },
  {
   "cell_type": "code",
   "execution_count": 149,
   "metadata": {},
   "outputs": [],
   "source": [
    "## train\n",
    "train_loss = []\n",
    "vae.temperature = 10.0"
   ]
  },
  {
   "cell_type": "code",
   "execution_count": null,
   "metadata": {},
   "outputs": [
    {
     "name": "stdout",
     "output_type": "stream",
     "text": [
      "Epoch no : 1 batch_no : 115 curr_loss : 699.93701171875\n",
      "Current Truncated Level : 16\n",
      "tensor([[1.0000],\n",
      "        [0.9154],\n",
      "        [0.9081],\n",
      "        [0.8994],\n",
      "        [0.8889],\n",
      "        [0.8760],\n",
      "        [0.8599],\n",
      "        [0.8403],\n",
      "        [0.8128],\n",
      "        [0.7745],\n",
      "        [0.7205],\n",
      "        [0.6644],\n",
      "        [0.5966],\n",
      "        [0.5174],\n",
      "        [0.4145],\n",
      "        [0.5298],\n",
      "        [0.5228],\n",
      "        [0.4781],\n",
      "        [0.4740]])\n",
      "tensor(207.9773, grad_fn=<DivBackward0>) tensor(0.1327, grad_fn=<DivBackward0>) tensor(4.3396, grad_fn=<SumBackward0>) tensor(0.0280, grad_fn=<DivBackward0>)\n",
      "tensor(207.4175, grad_fn=<DivBackward0>) tensor(0.2653, grad_fn=<DivBackward0>) tensor(8.9653, grad_fn=<SumBackward0>) tensor(0.0651, grad_fn=<DivBackward0>)\n",
      "tensor(206.6666, grad_fn=<DivBackward0>) tensor(0.3980, grad_fn=<DivBackward0>) tensor(13.5959, grad_fn=<SumBackward0>) tensor(0.1424, grad_fn=<DivBackward0>)\n",
      "tensor(205.9124, grad_fn=<DivBackward0>) tensor(0.5109, grad_fn=<DivBackward0>) tensor(18.0712, grad_fn=<SumBackward0>) tensor(0.2658, grad_fn=<DivBackward0>)\n",
      "tensor(206.7080, grad_fn=<DivBackward0>) tensor(0.6237, grad_fn=<DivBackward0>) tensor(22.3483, grad_fn=<SumBackward0>) tensor(0.6171, grad_fn=<DivBackward0>)\n",
      "tensor(206.2489, grad_fn=<DivBackward0>) tensor(0.7366, grad_fn=<DivBackward0>) tensor(26.5924, grad_fn=<SumBackward0>) tensor(1.1527, grad_fn=<DivBackward0>)\n",
      "tensor(206.9829, grad_fn=<DivBackward0>) tensor(0.8690, grad_fn=<DivBackward0>) tensor(30.6828, grad_fn=<SumBackward0>) tensor(2.2157, grad_fn=<DivBackward0>)\n",
      "tensor(205.8796, grad_fn=<DivBackward0>) tensor(0.9819, grad_fn=<DivBackward0>) tensor(35.0805, grad_fn=<SumBackward0>) tensor(3.8116, grad_fn=<DivBackward0>)\n"
     ]
    }
   ],
   "source": [
    "# optimizer = torch.optim.Adam(vae.parameters(), 0.01)\n",
    "for epoch in range(50):\n",
    "    \n",
    "        \n",
    "    for i, data in enumerate(trainloader, 0):\n",
    "        images, labels = data\n",
    "        images = images.to(device)\n",
    "\n",
    "        if(i%1 == 0 and True):\n",
    "            l = train_step(vae, images, 10, True)\n",
    "        else:\n",
    "            l = train_step(vae, images, 10, False)\n",
    "        \n",
    "        train_loss.append(l.item())\n",
    "\n",
    "        vae.temperature /= 1.1\n",
    "        if(vae.temperature < .5):\n",
    "            vae.temperature = 0.5\n",
    "        \n",
    "\n",
    "#         optimizer.zero_grad()\n",
    "#         l = get_kth_trunc_loss(vae, images, K = 0)\n",
    "# #         try:\n",
    "#         l.backward()\n",
    "# #         except:\n",
    "# #             pass\n",
    "#         train_loss.append(l.item() / len(images))\n",
    "#         optimizer.step()\n",
    "    \n",
    "        \n",
    "\n",
    "        if(i%1 == 0):\n",
    "            clr(wait = True)\n",
    "            print(\"Epoch no :\", epoch + 1, \"batch_no :\", i, \"curr_loss :\",  train_loss[-1])\n",
    "        \n",
    "plt.plot(train_loss)\n",
    "plt.show()"
   ]
  },
  {
   "cell_type": "code",
   "execution_count": null,
   "metadata": {},
   "outputs": [],
   "source": [
    "with torch.no_grad():\n",
    "    for i, data in enumerate(testloader, 7):\n",
    "        images, labels = data\n",
    "        images = images.to(device)\n",
    "        recon_image, s, mu, z, pi, gi = vae(images, 0)\n",
    "        recon_image_ = recon_image.view(BATCH_SIZE, 1, 28, 28)\n",
    "        if i % 100 == 0:\n",
    "            show_images(recon_image_)"
   ]
  },
  {
   "cell_type": "raw",
   "metadata": {},
   "source": []
  },
  {
   "cell_type": "code",
   "execution_count": 15,
   "metadata": {},
   "outputs": [],
   "source": [
    "# test\n",
    "testset = datasets.MNIST('./data/', train=False, download=False,\n",
    "                   transform=transforms.ToTensor())\n",
    "\n",
    "testloader = torch.utils.data.DataLoader(trainset, batch_size=BATCH_SIZE,\n",
    "                                          shuffle=True, num_workers=2)"
   ]
  },
  {
   "cell_type": "code",
   "execution_count": 245,
   "metadata": {},
   "outputs": [
    {
     "data": {
      "text/plain": [
       "[<matplotlib.lines.Line2D at 0x7fe62042a5f8>]"
      ]
     },
     "execution_count": 245,
     "metadata": {},
     "output_type": "execute_result"
    },
    {
     "data": {
      "image/png": "[encoded data removed]",
      "text/plain": [
       "<Figure size 432x288 with 1 Axes>"
      ]
     },
     "metadata": {
      "needs_background": "light"
     },
     "output_type": "display_data"
    }
   ],
   "source": [
    "temp = np.array(train_loss)\n",
    "plt.plot(temp*(temp < 20000))"
   ]
  },
  {
   "cell_type": "code",
   "execution_count": 246,
   "metadata": {},
   "outputs": [
    {
     "data": {
      "text/plain": [
       "2.5503184509277346"
      ]
     },
     "execution_count": 246,
     "metadata": {},
     "output_type": "execute_result"
    }
   ],
   "source": [
    "min(temp[:])"
   ]
  },
  {
   "cell_type": "code",
   "execution_count": 247,
   "metadata": {},
   "outputs": [
    {
     "data": {
      "text/plain": [
       "0.0001"
      ]
     },
     "execution_count": 247,
     "metadata": {},
     "output_type": "execute_result"
    }
   ],
   "source": [
    "vae.rholr"
   ]
  },
  {
   "cell_type": "code",
   "execution_count": 248,
   "metadata": {},
   "outputs": [],
   "source": [
    "vae.rhos[vae.rhos != vae.rhos] = 0.5"
   ]
  },
  {
   "cell_type": "code",
   "execution_count": 249,
   "metadata": {},
   "outputs": [
    {
     "data": {
      "text/plain": [
       "tensor([[1.0002],\n",
       "        [0.4967],\n",
       "        [0.3939],\n",
       "        [0.4711],\n",
       "        [0.4755],\n",
       "        [0.4924]], grad_fn=<IndexPutBackward>)"
      ]
     },
     "execution_count": 249,
     "metadata": {},
     "output_type": "execute_result"
    }
   ],
   "source": [
    "vae.rhos"
   ]
  },
  {
   "cell_type": "code",
   "execution_count": 250,
   "metadata": {},
   "outputs": [
    {
     "data": {
      "text/plain": [
       "0.05"
      ]
     },
     "execution_count": 250,
     "metadata": {},
     "output_type": "execute_result"
    }
   ],
   "source": [
    "vae.temperature"
   ]
  },
  {
   "cell_type": "code",
   "execution_count": 251,
   "metadata": {},
   "outputs": [
    {
     "data": {
      "text/plain": [
       "Parameter containing:\n",
       "tensor([[36.4143, 35.6425,  5.6646,  3.7565,  1.7652]], requires_grad=True)"
      ]
     },
     "execution_count": 251,
     "metadata": {},
     "output_type": "execute_result"
    }
   ],
   "source": [
    "vae.aeys"
   ]
  },
  {
   "cell_type": "code",
   "execution_count": 252,
   "metadata": {},
   "outputs": [
    {
     "data": {
      "text/plain": [
       "Parameter containing:\n",
       "tensor([[1.4245, 3.1288, 0.8362, 0.5595, 0.8873]], requires_grad=True)"
      ]
     },
     "execution_count": 252,
     "metadata": {},
     "output_type": "execute_result"
    }
   ],
   "source": [
    "vae.bees"
   ]
  },
  {
   "cell_type": "code",
   "execution_count": null,
   "metadata": {},
   "outputs": [],
   "source": []
  }
 ],
 "metadata": {
  "kernelspec": {
   "display_name": "Python 3",
   "language": "python",
   "name": "python3"
  },
  "language_info": {
   "codemirror_mode": {
    "name": "ipython",
    "version": 3
   },
   "file_extension": ".py",
   "mimetype": "text/x-python",
   "name": "python",
   "nbconvert_exporter": "python",
   "pygments_lexer": "ipython3",
   "version": "3.6.8"
  }
 },
 "nbformat": 4,
 "nbformat_minor": 2
}
